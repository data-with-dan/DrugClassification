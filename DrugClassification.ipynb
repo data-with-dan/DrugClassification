{
 "cells": [
  {
   "cell_type": "code",
   "execution_count": 19,
   "id": "42d09c68-40e9-47d4-a66a-1fec51a79ee8",
   "metadata": {},
   "outputs": [],
   "source": [
    "import pandas as pd\n",
    "import matplotlib.pyplot as plt\n",
    "import seaborn as sns\n",
    "from sklearn.model_selection import train_test_split\n",
    "from sklearn.preprocessing import LabelEncoder, StandardScaler\n",
    "from sklearn.linear_model import LogisticRegression\n",
    "from sklearn.ensemble import RandomForestClassifier\n",
    "from sklearn.neighbors import KNeighborsClassifier\n",
    "from sklearn.metrics import classification_report, accuracy_score"
   ]
  },
  {
   "cell_type": "markdown",
   "id": "6b619ac8-c6b7-4cc3-8c30-5a892d849995",
   "metadata": {},
   "source": [
    "Load the CSV file into a pandas DataFrame"
   ]
  },
  {
   "cell_type": "code",
   "execution_count": 20,
   "id": "c8e56149-81c4-43c7-a27d-914724b17a17",
   "metadata": {},
   "outputs": [],
   "source": [
    "file_path = 'drug200.csv'\n",
    "df = pd.read_csv(file_path)"
   ]
  },
  {
   "cell_type": "markdown",
   "id": "9435d0f7-e40f-419b-b920-42b44b7735cc",
   "metadata": {},
   "source": [
    "Display the first few rows to get a sense of the data"
   ]
  },
  {
   "cell_type": "code",
   "execution_count": 21,
   "id": "d636d225-f5ce-41c5-be4c-c6e3c5344d2c",
   "metadata": {},
   "outputs": [
    {
     "name": "stdout",
     "output_type": "stream",
     "text": [
      "First few rows of the data:\n",
      "   Age Sex      BP Cholesterol  Na_to_K   Drug\n",
      "0   23   F    HIGH        HIGH   25.355  DrugY\n",
      "1   47   M     LOW        HIGH   13.093  drugC\n",
      "2   47   M     LOW        HIGH   10.114  drugC\n",
      "3   28   F  NORMAL        HIGH    7.798  drugX\n",
      "4   61   F     LOW        HIGH   18.043  DrugY\n"
     ]
    }
   ],
   "source": [
    "print(\"First few rows of the data:\")\n",
    "print(df.head())"
   ]
  },
  {
   "cell_type": "markdown",
   "id": "98748ed2-efb1-489a-8962-6bbfbfb2d184",
   "metadata": {},
   "source": [
    "Statistical summary of numeric columns"
   ]
  },
  {
   "cell_type": "code",
   "execution_count": 22,
   "id": "5d424ebf-eb44-4b1e-bfd2-2ec12f05a67c",
   "metadata": {},
   "outputs": [
    {
     "name": "stdout",
     "output_type": "stream",
     "text": [
      "\n",
      "Statistical summary:\n",
      "              Age     Na_to_K\n",
      "count  200.000000  200.000000\n",
      "mean    44.315000   16.084485\n",
      "std     16.544315    7.223956\n",
      "min     15.000000    6.269000\n",
      "25%     31.000000   10.445500\n",
      "50%     45.000000   13.936500\n",
      "75%     58.000000   19.380000\n",
      "max     74.000000   38.247000\n"
     ]
    }
   ],
   "source": [
    "print(\"\\nStatistical summary:\")\n",
    "print(df.describe())"
   ]
  },
  {
   "cell_type": "markdown",
   "id": "ebf2ae18-80e9-465f-8a31-c16f2f39172d",
   "metadata": {},
   "source": [
    "Check for missing values"
   ]
  },
  {
   "cell_type": "code",
   "execution_count": 23,
   "id": "57657646-9ffe-473b-b010-8694991c859d",
   "metadata": {},
   "outputs": [
    {
     "name": "stdout",
     "output_type": "stream",
     "text": [
      "\n",
      "Missing values:\n",
      "Age            0\n",
      "Sex            0\n",
      "BP             0\n",
      "Cholesterol    0\n",
      "Na_to_K        0\n",
      "Drug           0\n",
      "dtype: int64\n"
     ]
    }
   ],
   "source": [
    "print(\"\\nMissing values:\")\n",
    "print(df.isnull().sum())"
   ]
  },
  {
   "cell_type": "markdown",
   "id": "b95c005c-2c97-4e72-94f6-bf89ca08f631",
   "metadata": {},
   "source": [
    "Unique values in categorical columns (Sex, BP, Cholesterol, Drug)"
   ]
  },
  {
   "cell_type": "code",
   "execution_count": 24,
   "id": "50160b3d-b8dd-42f7-9ffb-832bc8040009",
   "metadata": {},
   "outputs": [
    {
     "name": "stdout",
     "output_type": "stream",
     "text": [
      "\n",
      "Unique values in categorical columns:\n",
      "Sex: ['F' 'M']\n",
      "BP: ['HIGH' 'LOW' 'NORMAL']\n",
      "Cholesterol: ['HIGH' 'NORMAL']\n",
      "Drug: ['DrugY' 'drugC' 'drugX' 'drugA' 'drugB']\n"
     ]
    }
   ],
   "source": [
    "print(\"\\nUnique values in categorical columns:\")\n",
    "for column in ['Sex', 'BP', 'Cholesterol', 'Drug']:\n",
    "    print(f\"{column}: {df[column].unique()}\")"
   ]
  },
  {
   "cell_type": "markdown",
   "id": "d5f8121b-4768-4e4d-94c5-43a8ab669ec3",
   "metadata": {},
   "source": [
    "Visualize the distribution of the target variable (Drug)"
   ]
  },
  {
   "cell_type": "code",
   "execution_count": 25,
   "id": "827f8960-7c5c-4e22-bada-0668b9eaadd2",
   "metadata": {},
   "outputs": [
    {
     "data": {
      "image/png": "[encoded data removed]",
      "text/plain": [
       "<Figure size 400x300 with 1 Axes>"
      ]
     },
     "metadata": {},
     "output_type": "display_data"
    }
   ],
   "source": [
    "plt.figure(figsize=(4, 3))\n",
    "sns.countplot(x='Drug', data=df)\n",
    "plt.title('Distribution of Drug Types')\n",
    "plt.show()"
   ]
  },
  {
   "cell_type": "markdown",
   "id": "993a4fc5-9a0b-4086-a235-7c94e0901d2f",
   "metadata": {},
   "source": [
    "Label encoding for categorical variables"
   ]
  },
  {
   "cell_type": "code",
   "execution_count": 27,
   "id": "a841b79f-4ef5-4b4c-a12f-32d75a5291b3",
   "metadata": {},
   "outputs": [],
   "source": [
    "label_encoder = LabelEncoder()\n",
    "\n",
    "df['Sex'] = label_encoder.fit_transform(df['Sex'])\n",
    "df['BP'] = label_encoder.fit_transform(df['BP'])\n",
    "df['Cholesterol'] = label_encoder.fit_transform(df['Cholesterol'])"
   ]
  },
  {
   "cell_type": "code",
   "execution_count": null,
   "id": "6eec7322-b9a9-4022-9d23-e561b7747d5a",
   "metadata": {},
   "outputs": [],
   "source": []
  },
  {
   "cell_type": "markdown",
   "id": "df8db700-d06c-476b-857a-561c7194256c",
   "metadata": {},
   "source": [
    "Label encoder for the 'Drug' column and drug class mappings"
   ]
  },
  {
   "cell_type": "code",
   "execution_count": 28,
   "id": "b6a503ba-44d9-4a26-b318-4554e5b667d5",
   "metadata": {},
   "outputs": [
    {
     "name": "stdout",
     "output_type": "stream",
     "text": [
      "\n",
      "Drug class mappings:\n",
      "Class 0: DrugY\n",
      "Class 1: drugA\n",
      "Class 2: drugB\n",
      "Class 3: drugC\n",
      "Class 4: drugX\n"
     ]
    }
   ],
   "source": [
    "drug_label_encoder = LabelEncoder()\n",
    "df['Drug'] = drug_label_encoder.fit_transform(df['Drug'])\n",
    "\n",
    "drug_classes = drug_label_encoder.classes_\n",
    "print(\"\\nDrug class mappings:\")\n",
    "for idx, drug in enumerate(drug_classes):\n",
    "    print(f\"Class {idx}: {drug}\")"
   ]
  },
  {
   "cell_type": "markdown",
   "id": "fb548823-e8c2-498d-b8a4-55bd49b0ff61",
   "metadata": {},
   "source": [
    "Assign features and target variables"
   ]
  },
  {
   "cell_type": "code",
   "execution_count": 29,
   "id": "44e96c99-2f04-4257-acdd-ba566b2b9e25",
   "metadata": {},
   "outputs": [],
   "source": [
    "X = df.drop(columns='Drug')\n",
    "y = df['Drug']"
   ]
  },
  {
   "cell_type": "markdown",
   "id": "a972f0f4-3987-4416-9e5a-297981e234be",
   "metadata": {},
   "source": [
    "Split data into training and testing sets (80% train, 20% test)"
   ]
  },
  {
   "cell_type": "code",
   "execution_count": 30,
   "id": "1366e8a6-c541-42f3-821c-fd643d49326b",
   "metadata": {},
   "outputs": [],
   "source": [
    "X_train, X_test, y_train, y_test = train_test_split(X, y, test_size=0.2, random_state=42)"
   ]
  },
  {
   "cell_type": "markdown",
   "id": "ea62e4a3-3a92-408b-a179-c7a647d49df2",
   "metadata": {},
   "source": [
    "Standardization - only applied to numerical features"
   ]
  },
  {
   "cell_type": "code",
   "execution_count": 31,
   "id": "3d409629-b746-4150-830c-d0bc019b15b3",
   "metadata": {},
   "outputs": [],
   "source": [
    "scaler = StandardScaler()\n",
    "X_train[['Age', 'Na_to_K']] = scaler.fit_transform(X_train[['Age', 'Na_to_K']])\n",
    "X_test[['Age', 'Na_to_K']] = scaler.transform(X_test[['Age', 'Na_to_K']])"
   ]
  },
  {
   "cell_type": "markdown",
   "id": "52200abc-4156-4756-8eec-8c53cc704c21",
   "metadata": {},
   "source": [
    "Model 1: Logistic Regression"
   ]
  },
  {
   "cell_type": "code",
   "execution_count": 38,
   "id": "9fcf01cb-ee43-429e-990c-fce25c4a5d94",
   "metadata": {},
   "outputs": [
    {
     "name": "stdout",
     "output_type": "stream",
     "text": [
      "\n",
      "Logistic Regression Results:\n",
      "Accuracy: 0.85\n",
      "              precision    recall  f1-score   support\n",
      "\n",
      "       DrugY       0.88      0.93      0.90        15\n",
      "       drugA       0.86      1.00      0.92         6\n",
      "       drugB       1.00      1.00      1.00         3\n",
      "       drugC       1.00      0.20      0.33         5\n",
      "       drugX       0.77      0.91      0.83        11\n",
      "\n",
      "    accuracy                           0.85        40\n",
      "   macro avg       0.90      0.81      0.80        40\n",
      "weighted avg       0.87      0.85      0.82        40\n",
      "\n"
     ]
    }
   ],
   "source": [
    "log_reg = LogisticRegression(max_iter=1000)\n",
    "log_reg.fit(X_train, y_train)\n",
    "y_pred_log_reg = log_reg.predict(X_test)\n",
    "print(\"\\nLogistic Regression Results:\")\n",
    "print(f\"Accuracy: {accuracy_score(y_test, y_pred_log_reg)}\")\n",
    "print(classification_report(drug_label_encoder.inverse_transform(y_test), drug_label_encoder.inverse_transform(y_pred_log_reg)))"
   ]
  },
  {
   "cell_type": "markdown",
   "id": "589b277f-9d25-41a2-9e8b-3c8138dd0014",
   "metadata": {},
   "source": [
    "Model 2: Random Forest Classifier"
   ]
  },
  {
   "cell_type": "code",
   "execution_count": 39,
   "id": "00ca03a1-30aa-4d67-b3bb-f6226650f4ee",
   "metadata": {},
   "outputs": [
    {
     "name": "stdout",
     "output_type": "stream",
     "text": [
      "\n",
      "Random Forest Results:\n",
      "Accuracy: 1.0\n",
      "              precision    recall  f1-score   support\n",
      "\n",
      "       DrugY       1.00      1.00      1.00        15\n",
      "       drugA       1.00      1.00      1.00         6\n",
      "       drugB       1.00      1.00      1.00         3\n",
      "       drugC       1.00      1.00      1.00         5\n",
      "       drugX       1.00      1.00      1.00        11\n",
      "\n",
      "    accuracy                           1.00        40\n",
      "   macro avg       1.00      1.00      1.00        40\n",
      "weighted avg       1.00      1.00      1.00        40\n",
      "\n"
     ]
    }
   ],
   "source": [
    "rf_clf = RandomForestClassifier(n_estimators=100, random_state=42)\n",
    "rf_clf.fit(X_train, y_train)\n",
    "y_pred_rf = rf_clf.predict(X_test)\n",
    "print(\"\\nRandom Forest Results:\")\n",
    "print(f\"Accuracy: {accuracy_score(y_test, y_pred_rf)}\")\n",
    "print(classification_report(drug_label_encoder.inverse_transform(y_test), drug_label_encoder.inverse_transform(y_pred_rf)))\n"
   ]
  },
  {
   "cell_type": "markdown",
   "id": "0df34619-3f6c-4d28-b380-4b6435fe3f3e",
   "metadata": {},
   "source": [
    "Model 3: K-Nearest Neighbors (KNN)"
   ]
  },
  {
   "cell_type": "code",
   "execution_count": 40,
   "id": "220d7241-8815-4b6f-b926-b0bfd7a85767",
   "metadata": {},
   "outputs": [
    {
     "name": "stdout",
     "output_type": "stream",
     "text": [
      "\n",
      "K-Nearest Neighbors Results:\n",
      "Accuracy: 0.9\n",
      "              precision    recall  f1-score   support\n",
      "\n",
      "       DrugY       0.94      1.00      0.97        15\n",
      "       drugA       1.00      1.00      1.00         6\n",
      "       drugB       0.75      1.00      0.86         3\n",
      "       drugC       1.00      0.40      0.57         5\n",
      "       drugX       0.83      0.91      0.87        11\n",
      "\n",
      "    accuracy                           0.90        40\n",
      "   macro avg       0.90      0.86      0.85        40\n",
      "weighted avg       0.91      0.90      0.89        40\n",
      "\n"
     ]
    }
   ],
   "source": [
    "knn_clf = KNeighborsClassifier(n_neighbors=5)\n",
    "knn_clf.fit(X_train, y_train)\n",
    "y_pred_knn = knn_clf.predict(X_test)\n",
    "print(\"\\nK-Nearest Neighbors Results:\")\n",
    "print(f\"Accuracy: {accuracy_score(y_test, y_pred_knn)}\")\n",
    "print(classification_report(drug_label_encoder.inverse_transform(y_test), drug_label_encoder.inverse_transform(y_pred_knn)))"
   ]
  },
  {
   "cell_type": "code",
   "execution_count": null,
   "id": "f78b273c-52b2-49dd-ac1f-da74dca95e2b",
   "metadata": {},
   "outputs": [],
   "source": []
  }
 ],
 "metadata": {
  "kernelspec": {
   "display_name": "Python 3 (ipykernel)",
   "language": "python",
   "name": "python3"
  },
  "language_info": {
   "codemirror_mode": {
    "name": "ipython",
    "version": 3
   },
   "file_extension": ".py",
   "mimetype": "text/x-python",
   "name": "python",
   "nbconvert_exporter": "python",
   "pygments_lexer": "ipython3",
   "version": "3.12.5"
  }
 },
 "nbformat": 4,
 "nbformat_minor": 5
}
